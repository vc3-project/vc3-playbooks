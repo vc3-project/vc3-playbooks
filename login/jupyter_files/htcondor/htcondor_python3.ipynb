{
 "cells": [
  {
   "cell_type": "markdown",
   "metadata": {},
   "source": [
    "# HTCondor Python Bindings Introduction\n",
    "\n",
    "\n",
    "\n",
    "The HTCondor python modules aim to expose a high-quality, Pythonic interface to the HTCondor client libraries. They utilize the same C++ libraries as HTCondor itself, meaning they have nearly the same behavior as the command line tools. As the python modules are shipped with HTCondor itself, this documentation focuses on references and tutorials on how to use the modules, rather than an install how-to.\n",
    "\n",
    "Full documentation can be found below:  \n",
    "https://htcondor-python.readthedocs.io/en/latest/\n",
    "\n",
    "This notebook is a quickstart to submit jobs and see the HTCondor queue with python.\n",
    "\n",
    "## Submitting jobs\n",
    "Let's write a simply python script that prints the hostname and sleeps for a few seconds:"
   ]
  },
  {
   "cell_type": "code",
   "execution_count": 2,
   "metadata": {},
   "outputs": [],
   "source": [
    "# Creating an executable:\n",
    "import os\n",
    "import textwrap\n",
    "\n",
    "executable = '''\\\n",
    "                #!/bin/env python\n",
    "                \n",
    "                import socket\n",
    "                import time\n",
    "                import sys\n",
    "                \n",
    "                print('Hello from hostname:{0}'.format(socket.gethostname()))\n",
    "                print('Doing science...')\n",
    "                time.sleep(float(sys.argv[1]))\n",
    "\n",
    "                print('All done!')\n",
    "            '''\n",
    "with open(\"hello.py\",'w+') as f:\n",
    "    f.write(textwrap.dedent(executable))\n",
    "os.chmod(\"hello.py\", 0o755)"
   ]
  },
  {
   "cell_type": "markdown",
   "metadata": {},
   "source": [
    "We will submit the script utilizing the dedicated Submit object. \n",
    "\n",
    "Language is the same as in condor_submit:\n",
    "http://research.cs.wisc.edu/htcondor/manual/v8.6/2_5Submitting_Job.html "
   ]
  },
  {
   "cell_type": "code",
   "execution_count": 3,
   "metadata": {},
   "outputs": [],
   "source": [
    "import htcondor\n",
    "\n",
    "submit = {\n",
    "    \"executable\": \"hello.py\",\n",
    "    \"arguments\" : \"60\",\n",
    "    \"Error\"     : \"job.err.$(Cluster)-$(Process)\",\n",
    "    \"Output\"    : \"job.out.$(Cluster)-$(Process)\"\n",
    "}\n",
    "\n",
    "sub = htcondor.Submit(submit)"
   ]
  },
  {
   "cell_type": "markdown",
   "metadata": {},
   "source": [
    "We can now submit to the HTCondor schedd:"
   ]
  },
  {
   "cell_type": "code",
   "execution_count": 5,
   "metadata": {},
   "outputs": [
    {
     "name": "stdout",
     "output_type": "stream",
     "text": [
      "48\n"
     ]
    }
   ],
   "source": [
    "schedd = htcondor.Schedd()         # Create a schedd object using default settings.\n",
    "with schedd.transaction() as txn:  # txn will now represent the transaction.\n",
    "    clusterid = sub.queue(txn, 1)  # Queues 1 job in the current transaction; returns job's cluster ID\n",
    "    print(clusterid)                "
   ]
  },
  {
   "cell_type": "markdown",
   "metadata": {},
   "source": [
    "## Querying the Schedd:\n",
    "To see the job in the queue and its status, you can do:"
   ]
  },
  {
   "cell_type": "code",
   "execution_count": 7,
   "metadata": {},
   "outputs": [],
   "source": [
    "jobstatus = {\n",
    "    0: 'Unexpanded',\n",
    "    1: 'Idle',\n",
    "    2: 'Running',\n",
    "    3: 'Removed',\n",
    "    4: 'Completed',\n",
    "    5: 'Held',\n",
    "    6: 'Submission_Error'\n",
    "}\n",
    "for job in schedd.xquery(\"ClusterId == {0}\".format(clusterid), ['ClusterId', 'ProcId', 'JobStatus']):\n",
    "    print(\"ClusterId: %d, ProcId: %d, JobStatus = %s\" %(\n",
    "        job.get('ClusterId'), job.get('ProcId'), jobstatus[job.get('JobStatus')]))"
   ]
  },
  {
   "cell_type": "markdown",
   "metadata": {},
   "source": [
    "\n",
    "## Querying the Schedd History:\n",
    "Note a job will dissapear from the queue once it has finished.  \n",
    "Finished jobs however, can be seen in the queue history in a similar way:"
   ]
  },
  {
   "cell_type": "code",
   "execution_count": 8,
   "metadata": {},
   "outputs": [
    {
     "name": "stdout",
     "output_type": "stream",
     "text": [
      "ClusterId: 48, ProcId: 0, JobStatus = Completed\n"
     ]
    }
   ],
   "source": [
    "for job in schedd.history(\"ClusterId == {0}\".format(clusterid), ['ClusterId', 'ProcId', 'JobStatus']):\n",
    "    print(\"ClusterId: %d, ProcId: %d, JobStatus = %s\" %(\n",
    "        job.get('ClusterId'), job.get('ProcId'), jobstatus[job.get('JobStatus')]))"
   ]
  },
  {
   "cell_type": "markdown",
   "metadata": {},
   "source": [
    "## Checking results\n",
    "Once the job has finished, we can check the result"
   ]
  },
  {
   "cell_type": "code",
   "execution_count": 11,
   "metadata": {},
   "outputs": [
    {
     "name": "stdout",
     "output_type": "stream",
     "text": [
      "Printing output of: job.out.48-0\n",
      "Hello from hostname:d12chas122.crc.nd.edu\n",
      "\n",
      "Doing science...\n",
      "\n",
      "All done!\n",
      "\n"
     ]
    }
   ],
   "source": [
    "output = \"job.out.{0}-{1}\".format(job.get('ClusterId'), job.get('ProcId'))\n",
    "if os.path.isfile(output):\n",
    "    print(\"Printing output of: {0}\".format(output))\n",
    "    with open(output,\"r\") as f:\n",
    "        for line in f:\n",
    "            print(line)\n",
    "                  "
   ]
  },
  {
   "cell_type": "code",
   "execution_count": null,
   "metadata": {},
   "outputs": [],
   "source": []
  }
 ],
 "metadata": {
  "kernelspec": {
   "display_name": "Python 3",
   "language": "python",
   "name": "python3"
  },
  "language_info": {
   "codemirror_mode": {
    "name": "ipython",
    "version": 3
   },
   "file_extension": ".py",
   "mimetype": "text/x-python",
   "name": "python",
   "nbconvert_exporter": "python",
   "pygments_lexer": "ipython3",
   "version": "3.6.5"
  }
 },
 "nbformat": 4,
 "nbformat_minor": 2
}
