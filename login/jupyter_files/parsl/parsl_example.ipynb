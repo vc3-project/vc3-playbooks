{
 "cells": [
  {
   "cell_type": "markdown",
   "metadata": {},
   "source": [
    "# Creating a Parsl example "
   ]
  },
  {
   "cell_type": "markdown",
   "metadata": {},
   "source": [
    "**NOTE:** This example requires the parsl package in your cluster environment. Follow [this link](https://docs.virtualclusters.org/userguide/gettingstarted/#9-environments) to learn more about defining environments in your virtual cluster . \n",
    "\n",
    "The following example follows the [Parsl introduction example](https://parsl.readthedocs.io/en/latest/parsl-introduction.html), but using a VC3 controller for the cluster:\n",
    "For full documentation, visit: https://parsl.readthedocs.io\n",
    "\n",
    "## Configuring the cluster\n",
    "First, we will configure a local condor cluster through the IPyParallel engine, restricting TCP ports to 9100 to 9800 for our node:\n"
   ]
  },
  {
   "cell_type": "code",
   "execution_count": 7,
   "metadata": {},
   "outputs": [],
   "source": [
    "import parsl\n",
    "from parsl.app.app import python_app, bash_app\n",
    "\n",
    "from parsl.executors.ipp_controller import Controller\n",
    "from parsl.config import Config\n",
    "from parsl.executors.ipp import IPyParallelExecutor\n",
    "from vc3controller import VC3Controller\n",
    "from requests import get\n",
    "\n",
    "config = Config(\n",
    "    executors=[\n",
    "        IPyParallelExecutor(\n",
    "            label='vc3_local_ipp',\n",
    "            provider=parsl.providers.CondorProvider(\n",
    "                channel=parsl.channels.LocalChannel(),\n",
    "                nodes_per_block=1,\n",
    "                init_blocks=1,\n",
    "                max_blocks=1,\n",
    "                requirements='',\n",
    "                walltime=\"01:00:00\",\n",
    "            ),\n",
    "            engine_debug_level='DEBUG',\n",
    "            controller=VC3Controller(public_ip='{0}'.format(get('https://api.ipify.org').text), port_range='9100,9800')\n",
    "        )\n",
    "    ],\n",
    ")\n"
   ]
  },
  {
   "cell_type": "markdown",
   "metadata": {},
   "source": [
    "Now, we can load the parsl configuration and define a python application"
   ]
  },
  {
   "cell_type": "code",
   "execution_count": 12,
   "metadata": {},
   "outputs": [],
   "source": [
    "parsl.load(config)\n",
    "\n",
    "@python_app\n",
    "def hello ():\n",
    "    import socket\n",
    "    return 'Hello from hostname: {0}'.format(socket.gethostname())"
   ]
  },
  {
   "cell_type": "markdown",
   "metadata": {},
   "source": [
    "Next, we ask for the result and wait."
   ]
  },
  {
   "cell_type": "code",
   "execution_count": 9,
   "metadata": {},
   "outputs": [
    {
     "name": "stdout",
     "output_type": "stream",
     "text": [
      "Hello from hostname: qa-xp-001.crc.nd.edu\n"
     ]
    }
   ],
   "source": [
    "print(hello().result())"
   ]
  },
  {
   "cell_type": "code",
   "execution_count": null,
   "metadata": {},
   "outputs": [],
   "source": []
  }
 ],
 "metadata": {
  "kernelspec": {
   "display_name": "Python 3",
   "language": "python",
   "name": "python3"
  },
  "language_info": {
   "codemirror_mode": {
    "name": "ipython",
    "version": 3
   },
   "file_extension": ".py",
   "mimetype": "text/x-python",
   "name": "python",
   "nbconvert_exporter": "python",
   "pygments_lexer": "ipython3",
   "version": "3.6.4"
  }
 },
 "nbformat": 4,
 "nbformat_minor": 2
}
